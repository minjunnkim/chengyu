{
 "cells": [
  {
   "cell_type": "code",
   "execution_count": 9,
   "metadata": {},
   "outputs": [
    {
     "name": "stdout",
     "output_type": "stream",
     "text": [
      "  Chengyu         Pinyin                                        Explanation\n",
      "0    阿鼻地狱     ā bí dì yù  Meaning阿鼻：梵语的译音，意译为“无间”，即痛苦无有间断之意。常用来比喻黑暗的社会和严...\n",
      "1    阿狗阿猫    ā gǒu ā māo  Meaning旧时人们常用的小名。引申为任何轻贱的，不值得重视的人或著作。Context鲁迅...\n",
      "2    阿家阿翁    ā gū ā wēng  Meaning阿：名词的前缀。家：通“姑”，丈夫的母亲。翁：丈夫的父亲。指公公婆婆。Cont...\n",
      "3    阿姑阿翁    ā gū ā wēng  Meaning阿：名词的前缀。姑：丈夫的母亲。翁：丈夫的父亲。指公公婆婆。Context见：...\n",
      "4    阿娇金屋  ā jiāo jīn wū  Meaning阿娇：指汉武帝刘彻的姑母（长公主刘娇）的女儿。原指汉武帝刘彻要用金屋接纳阿娇为...\n"
     ]
    }
   ],
   "source": [
    "import pandas as pd\n",
    "\n",
    "# Load the CSV file\n",
    "df = pd.read_csv('chengyu_data.csv')\n",
    "\n",
    "# Display the first few rows to inspect the data\n",
    "print(df.head())"
   ]
  },
  {
   "cell_type": "code",
   "execution_count": 10,
   "metadata": {},
   "outputs": [],
   "source": [
    "import re\n",
    "\n",
    "def parse_explanation(explanation):\n",
    "    components = {\n",
    "        'Meaning': '',\n",
    "        'Context': '',\n",
    "        'Example': '',\n",
    "        'Synonyms': '',\n",
    "        'Antonyms': '',\n",
    "        'Grammar': ''\n",
    "    }\n",
    "    \n",
    "    # Define regex patterns to match different components\n",
    "    meaning_pattern = r\"Meaning([^ContextExampleSynonymsAntonymsGrammar]*)\"\n",
    "    context_pattern = r\"Context([^ExampleSynonymsAntonymsGrammar]*)\"\n",
    "    example_pattern = r\"Example([^SynonymsAntonymsGrammar]*)\"\n",
    "    synonyms_pattern = r\"Synonyms([^AntonymsGrammar]*)\"\n",
    "    antonyms_pattern = r\"Antonyms([^Grammar]*)\"\n",
    "    grammar_pattern = r\"Grammar(.*)\"\n",
    "    \n",
    "    # Extract each component using regex\n",
    "    meaning_match = re.search(meaning_pattern, explanation)\n",
    "    context_match = re.search(context_pattern, explanation)\n",
    "    example_match = re.search(example_pattern, explanation)\n",
    "    synonyms_match = re.search(synonyms_pattern, explanation)\n",
    "    antonyms_match = re.search(antonyms_pattern, explanation)\n",
    "    grammar_match = re.search(grammar_pattern, explanation)\n",
    "    \n",
    "    if meaning_match:\n",
    "        components['Meaning'] = meaning_match.group(1).strip()\n",
    "    if context_match:\n",
    "        components['Context'] = context_match.group(1).strip()\n",
    "    if example_match:\n",
    "        components['Example'] = example_match.group(1).strip()\n",
    "    if synonyms_match:\n",
    "        components['Synonyms'] = synonyms_match.group(1).strip()\n",
    "    if antonyms_match:\n",
    "        components['Antonyms'] = antonyms_match.group(1).strip()\n",
    "    if grammar_match:\n",
    "        components['Grammar'] = grammar_match.group(1).strip()\n",
    "    \n",
    "    return components"
   ]
  },
  {
   "cell_type": "code",
   "execution_count": 11,
   "metadata": {},
   "outputs": [
    {
     "name": "stdout",
     "output_type": "stream",
     "text": [
      "  Chengyu         Pinyin                                            Meaning  \\\n",
      "0    阿鼻地狱     ā bí dì yù  阿鼻：梵语的译音，意译为“无间”，即痛苦无有间断之意。常用来比喻黑暗的社会和严酷的牢狱。又比...   \n",
      "1    阿狗阿猫    ā gǒu ā māo                     旧时人们常用的小名。引申为任何轻贱的，不值得重视的人或著作。   \n",
      "2    阿家阿翁    ā gū ā wēng                阿：名词的前缀。家：通“姑”，丈夫的母亲。翁：丈夫的父亲。指公公婆婆。   \n",
      "3    阿姑阿翁    ā gū ā wēng                     阿：名词的前缀。姑：丈夫的母亲。翁：丈夫的父亲。指公公婆婆。   \n",
      "4    阿娇金屋  ā jiāo jīn wū  阿娇：指汉武帝刘彻的姑母（长公主刘娇）的女儿。原指汉武帝刘彻要用金屋接纳阿娇为妇。这里泛指美...   \n",
      "\n",
      "                                             Context  \\\n",
      "0                            语出《法华经·法师功德品》：“下至阿鼻地狱。”   \n",
      "1     鲁迅《我们要批评家》：“然而新的批评家不开口，类似批评家之流便趁势一笔抹杀：‘阿狗阿猫’。”   \n",
      "2  唐·赵璘《因话录》卷一：“郭暖尝与升平公主琴瑟不调。尚父拘暖，自诣朝童结罪。上召而慰之曰：‘...   \n",
      "3                                          见：“阿家阿翁”。   \n",
      "4  语出旧题汉·班固《汉武故事》：汉武帝幼时曾对姑母长公主说：“若得阿娇(姑母之女)作妇，当以金...   \n",
      "\n",
      "                                 Example Synonyms Antonyms           Grammar  \n",
      "0  但也有少数意志薄弱的……逐步上当，终至堕入～。 ◎《上饶集中营·炼狱杂记》                                      \n",
      "1                                                                             \n",
      "2                                            阿公阿婆     阿公阿婆  联合式；作主语、宾语；指公公婆婆  \n",
      "3       既然如此，你我两个，便学个不痴不聋的～。 ◎《儿女英雄传》二三回                                      \n",
      "4           ～原相配，太其玉镜宁无时？ ◎明·周履靖《锦笺记·诒婚》                                      \n"
     ]
    }
   ],
   "source": [
    "# Apply the parsing function to the Explanation column\n",
    "parsed_components = df['Explanation'].apply(parse_explanation)\n",
    "\n",
    "# Convert the parsed components into a DataFrame\n",
    "parsed_df = pd.DataFrame(parsed_components.tolist())\n",
    "\n",
    "# Combine the parsed components with the original DataFrame\n",
    "df = pd.concat([df, parsed_df], axis=1)\n",
    "\n",
    "# Drop the original Explanation column if no longer needed\n",
    "df = df.drop(columns=['Explanation'])\n",
    "\n",
    "# Display the DataFrame to check the results\n",
    "print(df.head())"
   ]
  },
  {
   "cell_type": "code",
   "execution_count": 12,
   "metadata": {},
   "outputs": [
    {
     "name": "stdout",
     "output_type": "stream",
     "text": [
      "Data has been successfully cleaned and saved to 'chinese_chengyu_cleaned.csv'\n"
     ]
    }
   ],
   "source": [
    "# Save the cleaned DataFrame to a new CSV file\n",
    "df.to_csv('chinese_chengyu_cleaned.csv', index=False, encoding='utf-8-sig')\n",
    "\n",
    "print(\"Data has been successfully cleaned and saved to 'chinese_chengyu_cleaned.csv'\")"
   ]
  }
 ],
 "metadata": {
  "kernelspec": {
   "display_name": "Python 3",
   "language": "python",
   "name": "python3"
  },
  "language_info": {
   "codemirror_mode": {
    "name": "ipython",
    "version": 3
   },
   "file_extension": ".py",
   "mimetype": "text/x-python",
   "name": "python",
   "nbconvert_exporter": "python",
   "pygments_lexer": "ipython3",
   "version": "3.11.9"
  }
 },
 "nbformat": 4,
 "nbformat_minor": 2
}
